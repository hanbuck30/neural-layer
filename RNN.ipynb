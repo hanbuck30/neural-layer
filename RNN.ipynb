{
  "nbformat": 4,
  "nbformat_minor": 0,
  "metadata": {
    "colab": {
      "provenance": [],
      "authorship_tag": "ABX9TyMNSE+XBelZshxCbCBWp7Tl",
      "include_colab_link": true
    },
    "kernelspec": {
      "name": "python3",
      "display_name": "Python 3"
    },
    "language_info": {
      "name": "python"
    }
  },
  "cells": [
    {
      "cell_type": "markdown",
      "metadata": {
        "id": "view-in-github",
        "colab_type": "text"
      },
      "source": [
        "<a href=\"https://colab.research.google.com/github/hanbuck30/neural-layer/blob/main/RNN.ipynb\" target=\"_parent\"><img src=\"https://colab.research.google.com/assets/colab-badge.svg\" alt=\"Open In Colab\"/></a>"
      ]
    },
    {
      "cell_type": "code",
      "execution_count": 1,
      "metadata": {
        "id": "URCoh7ZY4l0G"
      },
      "outputs": [],
      "source": [
        "import torch\n",
        "import numpy as np\n",
        "import torch.nn as nn\n",
        "import torch.optim as optim"
      ]
    },
    {
      "cell_type": "code",
      "source": [
        "timesteps = 5 # 시점의 수. NLP에서는 보통 문장의 길이\n",
        "input_size = 3 # 입력의 차원. NLP에서는 보통 단어 벡터의 차원\n",
        "hidden_size = 8 # 은닉 상태의 크기. 메모리 셀의 용량\n",
        "output_size=5\n",
        "batch_size=1\n",
        "inputs = torch.randn(batch_size,timesteps,input_size)\n",
        "hidden_state_t=torch.zeros(hidden_size,requires_grad=True)"
      ],
      "metadata": {
        "id": "CTkE6oG449h9"
      },
      "execution_count": 98,
      "outputs": []
    },
    {
      "cell_type": "code",
      "source": [
        "Wx = torch.randn(hidden_size, input_size,requires_grad=True) \n",
        "Wh = torch.randn(hidden_size, hidden_size,requires_grad=True)\n",
        "b = torch.randn(hidden_size,requires_grad=True)\n",
        "learning_rate = 0.1"
      ],
      "metadata": {
        "id": "jQ5UYob-61bi"
      },
      "execution_count": 99,
      "outputs": []
    },
    {
      "cell_type": "code",
      "source": [
        "print(Wx.shape)\n",
        "print(Wh.shape)\n",
        "print(b.shape)"
      ],
      "metadata": {
        "colab": {
          "base_uri": "https://localhost:8080/"
        },
        "id": "b0vcWbbQ7XW2",
        "outputId": "d6cab90a-655a-4a82-b045-152e34581b1b"
      },
      "execution_count": 100,
      "outputs": [
        {
          "output_type": "stream",
          "name": "stdout",
          "text": [
            "torch.Size([8, 3])\n",
            "torch.Size([8, 8])\n",
            "torch.Size([8])\n"
          ]
        }
      ]
    },
    {
      "cell_type": "code",
      "source": [
        "inputs.shape"
      ],
      "metadata": {
        "colab": {
          "base_uri": "https://localhost:8080/"
        },
        "id": "lJB-9u6W3aOJ",
        "outputId": "cbc2f255-68f7-4225-8fbf-5a4937ff665d"
      },
      "execution_count": 101,
      "outputs": [
        {
          "output_type": "execute_result",
          "data": {
            "text/plain": [
              "torch.Size([1, 5, 3])"
            ]
          },
          "metadata": {},
          "execution_count": 101
        }
      ]
    },
    {
      "cell_type": "code",
      "source": [
        "Y=torch.LongTensor([[0,1,2,3,4]])\n",
        "y_data=[Y]\n",
        "Y.shape"
      ],
      "metadata": {
        "colab": {
          "base_uri": "https://localhost:8080/"
        },
        "id": "srZJhB-ck4ev",
        "outputId": "b7daabf4-8651-410e-e1f1-14ceafdc857d"
      },
      "execution_count": 102,
      "outputs": [
        {
          "output_type": "execute_result",
          "data": {
            "text/plain": [
              "torch.Size([1, 5])"
            ]
          },
          "metadata": {},
          "execution_count": 102
        }
      ]
    },
    {
      "cell_type": "code",
      "source": [
        "b_fc=torch.randn(output_size,requires_grad=True)\n",
        "w_fc=torch.randn(hidden_size, output_size,requires_grad=True)"
      ],
      "metadata": {
        "id": "y5usjXzofPhm"
      },
      "execution_count": 103,
      "outputs": []
    },
    {
      "cell_type": "code",
      "source": [
        "total_hidden_state=[]\n",
        "total_hidden_states=[]\n",
        "def RNNmodel(inputs,hidden_state_t):\n",
        "    def RNN(inputs,hidden_state_t):\n",
        "        for i in inputs:\n",
        "            for input_t in i: \n",
        "                output_t = torch.tanh(torch.matmul(Wx,input_t) + torch.matmul(Wh,hidden_state_t) + b)\n",
        "                total_hidden_states.append(output_t) \n",
        "                hidden_state_t = output_t\n",
        "            total_state = torch.stack(total_hidden_states,dim=0)\n",
        "            total_hidden_state.append(total_state)\n",
        "        total_state=torch.stack(total_hidden_state,dim=0)\n",
        "        return total_state\n",
        "    def fc(total_state):\n",
        "        linear=torch.matmul(total_state,w_fc)+b_fc\n",
        "        return linear\n",
        "    v=fc(RNN(inputs,hidden_state_t))\n",
        "    return v\n",
        "RNNmodel(inputs,hidden_state_t).shape"
      ],
      "metadata": {
        "colab": {
          "base_uri": "https://localhost:8080/"
        },
        "id": "QerjedRRi4in",
        "outputId": "f4cf163f-20f1-4115-ef6f-faf882eb989e"
      },
      "execution_count": 104,
      "outputs": [
        {
          "output_type": "execute_result",
          "data": {
            "text/plain": [
              "torch.Size([1, 5, 5])"
            ]
          },
          "metadata": {},
          "execution_count": 104
        }
      ]
    },
    {
      "cell_type": "code",
      "source": [
        "criterion = torch.nn.CrossEntropyLoss()\n",
        "optimizer = optim.Adam([Wx,Wh,b,b_fc,w_fc], learning_rate)"
      ],
      "metadata": {
        "id": "MAaEYC05duwo"
      },
      "execution_count": 105,
      "outputs": []
    },
    {
      "cell_type": "code",
      "source": [
        "for i in range(100):\n",
        "    total_hidden_state=[]\n",
        "    total_hidden_states=[]\n",
        "    optimizer.zero_grad()\n",
        "    outputs=RNNmodel(inputs,hidden_state_t)\n",
        "    loss = criterion(outputs.view(-1,output_size), Y.view(-1)) # view를 하는 이유는 Batch 차원 제거를 위해\n",
        "    loss.backward() \n",
        "    optimizer.step() \n",
        "\n",
        "    \n",
        "    result = outputs.data.numpy().argmax(axis=2) \n",
        "    print(i, \"loss: \", loss.item(), \"prediction: \", result, \"true Y: \", y_data)"
      ],
      "metadata": {
        "colab": {
          "base_uri": "https://localhost:8080/"
        },
        "id": "wrk95TAAjpKE",
        "outputId": "1983191e-bbc4-4d3b-898d-3e999aedb0b2"
      },
      "execution_count": 109,
      "outputs": [
        {
          "output_type": "stream",
          "name": "stdout",
          "text": [
            "0 loss:  0.0005602967576123774 prediction:  [[0 1 2 3 4]] true Y:  [tensor([[0, 1, 2, 3, 4]])]\n",
            "1 loss:  0.000558057043235749 prediction:  [[0 1 2 3 4]] true Y:  [tensor([[0, 1, 2, 3, 4]])]\n",
            "2 loss:  0.0005559602868743241 prediction:  [[0 1 2 3 4]] true Y:  [tensor([[0, 1, 2, 3, 4]])]\n",
            "3 loss:  0.0005537205142900348 prediction:  [[0 1 2 3 4]] true Y:  [tensor([[0, 1, 2, 3, 4]])]\n",
            "4 loss:  0.0005516000092029572 prediction:  [[0 1 2 3 4]] true Y:  [tensor([[0, 1, 2, 3, 4]])]\n",
            "5 loss:  0.0005494555225595832 prediction:  [[0 1 2 3 4]] true Y:  [tensor([[0, 1, 2, 3, 4]])]\n",
            "6 loss:  0.0005473588244058192 prediction:  [[0 1 2 3 4]] true Y:  [tensor([[0, 1, 2, 3, 4]])]\n",
            "7 loss:  0.0005452620098367333 prediction:  [[0 1 2 3 4]] true Y:  [tensor([[0, 1, 2, 3, 4]])]\n",
            "8 loss:  0.000543189060408622 prediction:  [[0 1 2 3 4]] true Y:  [tensor([[0, 1, 2, 3, 4]])]\n",
            "9 loss:  0.0005410684971138835 prediction:  [[0 1 2 3 4]] true Y:  [tensor([[0, 1, 2, 3, 4]])]\n",
            "10 loss:  0.0005390431033447385 prediction:  [[0 1 2 3 4]] true Y:  [tensor([[0, 1, 2, 3, 4]])]\n",
            "11 loss:  0.0005369939608499408 prediction:  [[0 1 2 3 4]] true Y:  [tensor([[0, 1, 2, 3, 4]])]\n",
            "12 loss:  0.0005349686834961176 prediction:  [[0 1 2 3 4]] true Y:  [tensor([[0, 1, 2, 3, 4]])]\n",
            "13 loss:  0.0005329671548679471 prediction:  [[0 1 2 3 4]] true Y:  [tensor([[0, 1, 2, 3, 4]])]\n",
            "14 loss:  0.0005309180123731494 prediction:  [[0 1 2 3 4]] true Y:  [tensor([[0, 1, 2, 3, 4]])]\n",
            "15 loss:  0.0005289165419526398 prediction:  [[0 1 2 3 4]] true Y:  [tensor([[0, 1, 2, 3, 4]])]\n",
            "16 loss:  0.0005269150133244693 prediction:  [[0 1 2 3 4]] true Y:  [tensor([[0, 1, 2, 3, 4]])]\n",
            "17 loss:  0.0005249373498372734 prediction:  [[0 1 2 3 4]] true Y:  [tensor([[0, 1, 2, 3, 4]])]\n",
            "18 loss:  0.0005229358212091029 prediction:  [[0 1 2 3 4]] true Y:  [tensor([[0, 1, 2, 3, 4]])]\n",
            "19 loss:  0.0005210057133808732 prediction:  [[0 1 2 3 4]] true Y:  [tensor([[0, 1, 2, 3, 4]])]\n",
            "20 loss:  0.0005190280498936772 prediction:  [[0 1 2 3 4]] true Y:  [tensor([[0, 1, 2, 3, 4]])]\n",
            "21 loss:  0.0005171456141397357 prediction:  [[0 1 2 3 4]] true Y:  [tensor([[0, 1, 2, 3, 4]])]\n",
            "22 loss:  0.0005151916993781924 prediction:  [[0 1 2 3 4]] true Y:  [tensor([[0, 1, 2, 3, 4]])]\n",
            "23 loss:  0.0005133093218319118 prediction:  [[0 1 2 3 4]] true Y:  [tensor([[0, 1, 2, 3, 4]])]\n",
            "24 loss:  0.000511379330419004 prediction:  [[0 1 2 3 4]] true Y:  [tensor([[0, 1, 2, 3, 4]])]\n",
            "25 loss:  0.0005094968946650624 prediction:  [[0 1 2 3 4]] true Y:  [tensor([[0, 1, 2, 3, 4]])]\n",
            "26 loss:  0.0005076145171187818 prediction:  [[0 1 2 3 4]] true Y:  [tensor([[0, 1, 2, 3, 4]])]\n",
            "27 loss:  0.0005057797534391284 prediction:  [[0 1 2 3 4]] true Y:  [tensor([[0, 1, 2, 3, 4]])]\n",
            "28 loss:  0.0005038973176851869 prediction:  [[0 1 2 3 4]] true Y:  [tensor([[0, 1, 2, 3, 4]])]\n",
            "29 loss:  0.0005020863609388471 prediction:  [[0 1 2 3 4]] true Y:  [tensor([[0, 1, 2, 3, 4]])]\n",
            "30 loss:  0.0005002039251849055 prediction:  [[0 1 2 3 4]] true Y:  [tensor([[0, 1, 2, 3, 4]])]\n",
            "31 loss:  0.000498369219712913 prediction:  [[0 1 2 3 4]] true Y:  [tensor([[0, 1, 2, 3, 4]])]\n",
            "32 loss:  0.0004965820116922259 prediction:  [[0 1 2 3 4]] true Y:  [tensor([[0, 1, 2, 3, 4]])]\n",
            "33 loss:  0.0004947710549458861 prediction:  [[0 1 2 3 4]] true Y:  [tensor([[0, 1, 2, 3, 4]])]\n",
            "34 loss:  0.0004929839633405209 prediction:  [[0 1 2 3 4]] true Y:  [tensor([[0, 1, 2, 3, 4]])]\n",
            "35 loss:  0.0004911729483865201 prediction:  [[0 1 2 3 4]] true Y:  [tensor([[0, 1, 2, 3, 4]])]\n",
            "36 loss:  0.0004894096637144685 prediction:  [[0 1 2 3 4]] true Y:  [tensor([[0, 1, 2, 3, 4]])]\n",
            "37 loss:  0.000487646262627095 prediction:  [[0 1 2 3 4]] true Y:  [tensor([[0, 1, 2, 3, 4]])]\n",
            "38 loss:  0.0004858591710217297 prediction:  [[0 1 2 3 4]] true Y:  [tensor([[0, 1, 2, 3, 4]])]\n",
            "39 loss:  0.00048411969328299165 prediction:  [[0 1 2 3 4]] true Y:  [tensor([[0, 1, 2, 3, 4]])]\n",
            "40 loss:  0.00048240399337373674 prediction:  [[0 1 2 3 4]] true Y:  [tensor([[0, 1, 2, 3, 4]])]\n",
            "41 loss:  0.0004806883225683123 prediction:  [[0 1 2 3 4]] true Y:  [tensor([[0, 1, 2, 3, 4]])]\n",
            "42 loss:  0.0004789726808667183 prediction:  [[0 1 2 3 4]] true Y:  [tensor([[0, 1, 2, 3, 4]])]\n",
            "43 loss:  0.00047725701006129384 prediction:  [[0 1 2 3 4]] true Y:  [tensor([[0, 1, 2, 3, 4]])]\n",
            "44 loss:  0.0004755890113301575 prediction:  [[0 1 2 3 4]] true Y:  [tensor([[0, 1, 2, 3, 4]])]\n",
            "45 loss:  0.0004738971183542162 prediction:  [[0 1 2 3 4]] true Y:  [tensor([[0, 1, 2, 3, 4]])]\n",
            "46 loss:  0.00047220528358593583 prediction:  [[0 1 2 3 4]] true Y:  [tensor([[0, 1, 2, 3, 4]])]\n",
            "47 loss:  0.0004705372266471386 prediction:  [[0 1 2 3 4]] true Y:  [tensor([[0, 1, 2, 3, 4]])]\n",
            "48 loss:  0.00046889297664165497 prediction:  [[0 1 2 3 4]] true Y:  [tensor([[0, 1, 2, 3, 4]])]\n",
            "49 loss:  0.00046724878484383225 prediction:  [[0 1 2 3 4]] true Y:  [tensor([[0, 1, 2, 3, 4]])]\n",
            "50 loss:  0.00046555689186789095 prediction:  [[0 1 2 3 4]] true Y:  [tensor([[0, 1, 2, 3, 4]])]\n",
            "51 loss:  0.0004639365361072123 prediction:  [[0 1 2 3 4]] true Y:  [tensor([[0, 1, 2, 3, 4]])]\n",
            "52 loss:  0.00046236379421316087 prediction:  [[0 1 2 3 4]] true Y:  [tensor([[0, 1, 2, 3, 4]])]\n",
            "53 loss:  0.00046071960241533816 prediction:  [[0 1 2 3 4]] true Y:  [tensor([[0, 1, 2, 3, 4]])]\n",
            "54 loss:  0.0004591229953803122 prediction:  [[0 1 2 3 4]] true Y:  [tensor([[0, 1, 2, 3, 4]])]\n",
            "55 loss:  0.0004575740604195744 prediction:  [[0 1 2 3 4]] true Y:  [tensor([[0, 1, 2, 3, 4]])]\n",
            "56 loss:  0.0004559298395179212 prediction:  [[0 1 2 3 4]] true Y:  [tensor([[0, 1, 2, 3, 4]])]\n",
            "57 loss:  0.00045435712672770023 prediction:  [[0 1 2 3 4]] true Y:  [tensor([[0, 1, 2, 3, 4]])]\n",
            "58 loss:  0.0004528081917669624 prediction:  [[0 1 2 3 4]] true Y:  [tensor([[0, 1, 2, 3, 4]])]\n",
            "59 loss:  0.0004512354207690805 prediction:  [[0 1 2 3 4]] true Y:  [tensor([[0, 1, 2, 3, 4]])]\n",
            "60 loss:  0.00044966264977119863 prediction:  [[0 1 2 3 4]] true Y:  [tensor([[0, 1, 2, 3, 4]])]\n",
            "61 loss:  0.0004481614159885794 prediction:  [[0 1 2 3 4]] true Y:  [tensor([[0, 1, 2, 3, 4]])]\n",
            "62 loss:  0.0004466601531021297 prediction:  [[0 1 2 3 4]] true Y:  [tensor([[0, 1, 2, 3, 4]])]\n",
            "63 loss:  0.0004450397100299597 prediction:  [[0 1 2 3 4]] true Y:  [tensor([[0, 1, 2, 3, 4]])]\n",
            "64 loss:  0.00044351458200253546 prediction:  [[0 1 2 3 4]] true Y:  [tensor([[0, 1, 2, 3, 4]])]\n",
            "65 loss:  0.0004420371842570603 prediction:  [[0 1 2 3 4]] true Y:  [tensor([[0, 1, 2, 3, 4]])]\n",
            "66 loss:  0.0004405597283039242 prediction:  [[0 1 2 3 4]] true Y:  [tensor([[0, 1, 2, 3, 4]])]\n",
            "67 loss:  0.00043905837810598314 prediction:  [[0 1 2 3 4]] true Y:  [tensor([[0, 1, 2, 3, 4]])]\n",
            "68 loss:  0.000437557086115703 prediction:  [[0 1 2 3 4]] true Y:  [tensor([[0, 1, 2, 3, 4]])]\n",
            "69 loss:  0.0004361034953035414 prediction:  [[0 1 2 3 4]] true Y:  [tensor([[0, 1, 2, 3, 4]])]\n",
            "70 loss:  0.0004346260684542358 prediction:  [[0 1 2 3 4]] true Y:  [tensor([[0, 1, 2, 3, 4]])]\n",
            "71 loss:  0.0004331247473601252 prediction:  [[0 1 2 3 4]] true Y:  [tensor([[0, 1, 2, 3, 4]])]\n",
            "72 loss:  0.0004317187122069299 prediction:  [[0 1 2 3 4]] true Y:  [tensor([[0, 1, 2, 3, 4]])]\n",
            "73 loss:  0.00043024131446145475 prediction:  [[0 1 2 3 4]] true Y:  [tensor([[0, 1, 2, 3, 4]])]\n",
            "74 loss:  0.00042883530841208994 prediction:  [[0 1 2 3 4]] true Y:  [tensor([[0, 1, 2, 3, 4]])]\n",
            "75 loss:  0.00042738165939226747 prediction:  [[0 1 2 3 4]] true Y:  [tensor([[0, 1, 2, 3, 4]])]\n",
            "76 loss:  0.0004259756824467331 prediction:  [[0 1 2 3 4]] true Y:  [tensor([[0, 1, 2, 3, 4]])]\n",
            "77 loss:  0.0004245458112563938 prediction:  [[0 1 2 3 4]] true Y:  [tensor([[0, 1, 2, 3, 4]])]\n",
            "78 loss:  0.0004231874772813171 prediction:  [[0 1 2 3 4]] true Y:  [tensor([[0, 1, 2, 3, 4]])]\n",
            "79 loss:  0.00042171002132818103 prediction:  [[0 1 2 3 4]] true Y:  [tensor([[0, 1, 2, 3, 4]])]\n",
            "80 loss:  0.0004203755524940789 prediction:  [[0 1 2 3 4]] true Y:  [tensor([[0, 1, 2, 3, 4]])]\n",
            "81 loss:  0.0004190172185190022 prediction:  [[0 1 2 3 4]] true Y:  [tensor([[0, 1, 2, 3, 4]])]\n",
            "82 loss:  0.00041756354039534926 prediction:  [[0 1 2 3 4]] true Y:  [tensor([[0, 1, 2, 3, 4]])]\n",
            "83 loss:  0.0004162052064202726 prediction:  [[0 1 2 3 4]] true Y:  [tensor([[0, 1, 2, 3, 4]])]\n",
            "84 loss:  0.00041484684334136546 prediction:  [[0 1 2 3 4]] true Y:  [tensor([[0, 1, 2, 3, 4]])]\n",
            "85 loss:  0.0004134885093662888 prediction:  [[0 1 2 3 4]] true Y:  [tensor([[0, 1, 2, 3, 4]])]\n",
            "86 loss:  0.0004121301171835512 prediction:  [[0 1 2 3 4]] true Y:  [tensor([[0, 1, 2, 3, 4]])]\n",
            "87 loss:  0.0004107717832084745 prediction:  [[0 1 2 3 4]] true Y:  [tensor([[0, 1, 2, 3, 4]])]\n",
            "88 loss:  0.0004093896714039147 prediction:  [[0 1 2 3 4]] true Y:  [tensor([[0, 1, 2, 3, 4]])]\n",
            "89 loss:  0.0004081265942659229 prediction:  [[0 1 2 3 4]] true Y:  [tensor([[0, 1, 2, 3, 4]])]\n",
            "90 loss:  0.0004068159032613039 prediction:  [[0 1 2 3 4]] true Y:  [tensor([[0, 1, 2, 3, 4]])]\n",
            "91 loss:  0.0004054575110785663 prediction:  [[0 1 2 3 4]] true Y:  [tensor([[0, 1, 2, 3, 4]])]\n",
            "92 loss:  0.0004041706561110914 prediction:  [[0 1 2 3 4]] true Y:  [tensor([[0, 1, 2, 3, 4]])]\n",
            "93 loss:  0.000402883772039786 prediction:  [[0 1 2 3 4]] true Y:  [tensor([[0, 1, 2, 3, 4]])]\n",
            "94 loss:  0.00040159691707231104 prediction:  [[0 1 2 3 4]] true Y:  [tensor([[0, 1, 2, 3, 4]])]\n",
            "95 loss:  0.0004002623609267175 prediction:  [[0 1 2 3 4]] true Y:  [tensor([[0, 1, 2, 3, 4]])]\n",
            "96 loss:  0.0003989755059592426 prediction:  [[0 1 2 3 4]] true Y:  [tensor([[0, 1, 2, 3, 4]])]\n",
            "97 loss:  0.0003977601299993694 prediction:  [[0 1 2 3 4]] true Y:  [tensor([[0, 1, 2, 3, 4]])]\n",
            "98 loss:  0.0003964255447499454 prediction:  [[0 1 2 3 4]] true Y:  [tensor([[0, 1, 2, 3, 4]])]\n",
            "99 loss:  0.00039513868978247046 prediction:  [[0 1 2 3 4]] true Y:  [tensor([[0, 1, 2, 3, 4]])]\n"
          ]
        }
      ]
    },
    {
      "cell_type": "code",
      "source": [],
      "metadata": {
        "id": "P0_DVzLvplBi"
      },
      "execution_count": 106,
      "outputs": []
    }
  ]
}