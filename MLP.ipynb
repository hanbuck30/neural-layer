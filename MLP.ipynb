{
  "nbformat": 4,
  "nbformat_minor": 0,
  "metadata": {
    "colab": {
      "provenance": []
    },
    "kernelspec": {
      "name": "python3",
      "display_name": "Python 3"
    },
    "language_info": {
      "name": "python"
    }
  },
  "cells": [
    {
      "cell_type": "code",
      "execution_count": 5,
      "metadata": {
        "id": "MNlwP3vxN5By"
      },
      "outputs": [],
      "source": [
        "import torch\n",
        "import torch.nn.functional as F\n",
        "import torch.nn as nn\n",
        "import torch.optim as optim\n"
      ]
    },
    {
      "cell_type": "code",
      "source": [
        "input=torch.randn((1,20),requires_grad=True)\n",
        "target = torch.Tensor([[1,2]])"
      ],
      "metadata": {
        "id": "S542JNJEN6wi"
      },
      "execution_count": 50,
      "outputs": []
    },
    {
      "cell_type": "code",
      "source": [
        "loss_fn = nn.CrossEntropyLoss()"
      ],
      "metadata": {
        "id": "YVgmRC2fN9VF"
      },
      "execution_count": 48,
      "outputs": []
    },
    {
      "cell_type": "code",
      "source": [
        "for epoch in range(10001): \n",
        "    w1=torch.randn((20,14),requires_grad=True)\n",
        "    w2=torch.randn((14,8),requires_grad=True)\n",
        "    w3=torch.randn((8,6),requires_grad=True)\n",
        "    w4=torch.randn((6,2),requires_grad=True)\n",
        "\n",
        "    b1=torch.randn((14),requires_grad=True)\n",
        "    b2=torch.randn((8),requires_grad=True)\n",
        "    b3=torch.randn((6),requires_grad=True)\n",
        "    b4=torch.randn((2),requires_grad=True)\n",
        "\n",
        "    h1=F.relu((torch.matmul(input,w1))+b1) \n",
        "    h2=F.relu((torch.matmul(h1,w2))+b2) \n",
        "    h3=F.relu((torch.matmul(h2,w3))+b3) \n",
        "    output= torch.sigmoid((torch.matmul(h3,w4))+b4)\n",
        "    loss= loss_fn(output,target)\n",
        "    optimizer = optim.SGD([w1,w2,w3,w4,b1,b2,b3,b4], lr=1e-4)\n",
        "    optimizer.zero_grad()\n",
        "    loss.backward()\n",
        "    optimizer.step()\n",
        "    if epoch % 100 == 0:\n",
        "           print('Epoch {:4d}/{} Cost: {:.6f}'.format(\n",
        "                epoch,10001, loss.item()))"
      ],
      "metadata": {
        "colab": {
          "base_uri": "https://localhost:8080/"
        },
        "id": "nXIuIm66N9Xw",
        "outputId": "ca7f6a8a-3dad-4f8f-dc00-8e6651c8cc55"
      },
      "execution_count": 51,
      "outputs": [
        {
          "output_type": "stream",
          "name": "stdout",
          "text": [
            "Epoch    0/10001 Cost: 2.927203\n",
            "Epoch  100/10001 Cost: 1.910656\n",
            "Epoch  200/10001 Cost: 2.079442\n",
            "Epoch  300/10001 Cost: 2.074368\n",
            "Epoch  400/10001 Cost: 1.937139\n",
            "Epoch  500/10001 Cost: 1.923678\n",
            "Epoch  600/10001 Cost: 2.079442\n",
            "Epoch  700/10001 Cost: 2.079442\n",
            "Epoch  800/10001 Cost: 2.081573\n",
            "Epoch  900/10001 Cost: 1.939785\n",
            "Epoch 1000/10001 Cost: 2.079442\n",
            "Epoch 1100/10001 Cost: 2.079442\n",
            "Epoch 1200/10001 Cost: 2.079361\n",
            "Epoch 1300/10001 Cost: 2.079442\n",
            "Epoch 1400/10001 Cost: 2.079423\n",
            "Epoch 1500/10001 Cost: 2.927250\n",
            "Epoch 1600/10001 Cost: 2.049070\n",
            "Epoch 1700/10001 Cost: 2.080217\n",
            "Epoch 1800/10001 Cost: 2.178331\n",
            "Epoch 1900/10001 Cost: 1.937488\n",
            "Epoch 2000/10001 Cost: 2.939785\n",
            "Epoch 2100/10001 Cost: 2.079442\n",
            "Epoch 2200/10001 Cost: 2.535838\n",
            "Epoch 2300/10001 Cost: 2.027590\n",
            "Epoch 2400/10001 Cost: 1.938962\n",
            "Epoch 2500/10001 Cost: 1.939785\n",
            "Epoch 2600/10001 Cost: 2.938653\n",
            "Epoch 2700/10001 Cost: 2.079443\n",
            "Epoch 2800/10001 Cost: 2.060987\n",
            "Epoch 2900/10001 Cost: 2.939770\n",
            "Epoch 3000/10001 Cost: 1.939785\n",
            "Epoch 3100/10001 Cost: 1.939783\n",
            "Epoch 3200/10001 Cost: 2.078362\n",
            "Epoch 3300/10001 Cost: 2.079395\n",
            "Epoch 3400/10001 Cost: 2.031107\n",
            "Epoch 3500/10001 Cost: 2.396270\n",
            "Epoch 3600/10001 Cost: 2.049146\n",
            "Epoch 3700/10001 Cost: 2.079442\n",
            "Epoch 3800/10001 Cost: 1.939782\n",
            "Epoch 3900/10001 Cost: 2.939785\n",
            "Epoch 4000/10001 Cost: 2.939785\n",
            "Epoch 4100/10001 Cost: 2.079442\n",
            "Epoch 4200/10001 Cost: 2.295157\n",
            "Epoch 4300/10001 Cost: 1.997372\n",
            "Epoch 4400/10001 Cost: 2.079442\n",
            "Epoch 4500/10001 Cost: 2.079547\n",
            "Epoch 4600/10001 Cost: 2.107661\n",
            "Epoch 4700/10001 Cost: 1.939785\n",
            "Epoch 4800/10001 Cost: 2.939785\n",
            "Epoch 4900/10001 Cost: 1.909557\n",
            "Epoch 5000/10001 Cost: 2.079072\n",
            "Epoch 5100/10001 Cost: 2.061432\n",
            "Epoch 5200/10001 Cost: 2.079438\n",
            "Epoch 5300/10001 Cost: 2.078984\n",
            "Epoch 5400/10001 Cost: 1.939785\n",
            "Epoch 5500/10001 Cost: 2.939785\n",
            "Epoch 5600/10001 Cost: 2.930541\n",
            "Epoch 5700/10001 Cost: 2.079442\n",
            "Epoch 5800/10001 Cost: 1.935926\n",
            "Epoch 5900/10001 Cost: 2.079442\n",
            "Epoch 6000/10001 Cost: 2.714323\n",
            "Epoch 6100/10001 Cost: 2.938394\n",
            "Epoch 6200/10001 Cost: 1.939757\n",
            "Epoch 6300/10001 Cost: 2.939785\n",
            "Epoch 6400/10001 Cost: 2.079445\n",
            "Epoch 6500/10001 Cost: 2.065372\n",
            "Epoch 6600/10001 Cost: 2.079442\n",
            "Epoch 6700/10001 Cost: 1.939785\n",
            "Epoch 6800/10001 Cost: 2.271510\n",
            "Epoch 6900/10001 Cost: 2.079442\n",
            "Epoch 7000/10001 Cost: 1.939785\n",
            "Epoch 7100/10001 Cost: 2.080482\n",
            "Epoch 7200/10001 Cost: 2.098276\n",
            "Epoch 7300/10001 Cost: 2.079441\n",
            "Epoch 7400/10001 Cost: 2.107325\n",
            "Epoch 7500/10001 Cost: 2.079442\n",
            "Epoch 7600/10001 Cost: 2.937130\n",
            "Epoch 7700/10001 Cost: 1.939785\n",
            "Epoch 7800/10001 Cost: 2.474386\n",
            "Epoch 7900/10001 Cost: 1.910896\n",
            "Epoch 8000/10001 Cost: 2.379410\n",
            "Epoch 8100/10001 Cost: 2.939785\n",
            "Epoch 8200/10001 Cost: 2.939785\n",
            "Epoch 8300/10001 Cost: 1.939782\n",
            "Epoch 8400/10001 Cost: 1.921902\n",
            "Epoch 8500/10001 Cost: 2.088805\n",
            "Epoch 8600/10001 Cost: 2.079442\n",
            "Epoch 8700/10001 Cost: 1.933946\n",
            "Epoch 8800/10001 Cost: 2.939776\n",
            "Epoch 8900/10001 Cost: 2.938498\n",
            "Epoch 9000/10001 Cost: 2.079441\n",
            "Epoch 9100/10001 Cost: 2.079442\n",
            "Epoch 9200/10001 Cost: 2.079442\n",
            "Epoch 9300/10001 Cost: 2.079442\n",
            "Epoch 9400/10001 Cost: 2.079442\n",
            "Epoch 9500/10001 Cost: 1.909645\n",
            "Epoch 9600/10001 Cost: 2.079486\n",
            "Epoch 9700/10001 Cost: 2.079442\n",
            "Epoch 9800/10001 Cost: 2.079442\n",
            "Epoch 9900/10001 Cost: 2.939679\n",
            "Epoch 10000/10001 Cost: 2.872581\n"
          ]
        }
      ]
    }
  ]
}